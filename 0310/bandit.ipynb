{
  "cells": [
    {
      "cell_type": "markdown",
      "metadata": {
        "id": "view-in-github",
        "colab_type": "text"
      },
      "source": [
        "<a href=\"https://colab.research.google.com/github/jw4570/2024/blob/main/0310/bandit.ipynb\" target=\"_parent\"><img src=\"https://colab.research.google.com/assets/colab-badge.svg\" alt=\"Open In Colab\"/></a>"
      ]
    },
    {
      "cell_type": "markdown",
      "metadata": {
        "id": "DuDaRw3aGf17"
      },
      "source": [
        "# 강화 학습 환경 복습"
      ]
    },
    {
      "cell_type": "code",
      "execution_count": 3,
      "metadata": {
        "id": "0qCAXPrHGf1_",
        "colab": {
          "base_uri": "https://localhost:8080/"
        },
        "outputId": "1b8bd10f-19b3-4ae1-ce17-014fc0956d6f"
      },
      "outputs": [
        {
          "output_type": "stream",
          "name": "stdout",
          "text": [
            "Collecting gymnasium[classic-control]\n",
            "  Downloading gymnasium-0.29.1-py3-none-any.whl (953 kB)\n",
            "\u001b[2K     \u001b[90m━━━━━━━━━━━━━━━━━━━━━━━━━━━━━━━━━━━━━━━━\u001b[0m \u001b[32m953.9/953.9 kB\u001b[0m \u001b[31m6.0 MB/s\u001b[0m eta \u001b[36m0:00:00\u001b[0m\n",
            "\u001b[?25hRequirement already satisfied: numpy>=1.21.0 in /usr/local/lib/python3.10/dist-packages (from gymnasium[classic-control]) (1.25.2)\n",
            "Requirement already satisfied: cloudpickle>=1.2.0 in /usr/local/lib/python3.10/dist-packages (from gymnasium[classic-control]) (2.2.1)\n",
            "Requirement already satisfied: typing-extensions>=4.3.0 in /usr/local/lib/python3.10/dist-packages (from gymnasium[classic-control]) (4.10.0)\n",
            "Collecting farama-notifications>=0.0.1 (from gymnasium[classic-control])\n",
            "  Downloading Farama_Notifications-0.0.4-py3-none-any.whl (2.5 kB)\n",
            "Requirement already satisfied: pygame>=2.1.3 in /usr/local/lib/python3.10/dist-packages (from gymnasium[classic-control]) (2.5.2)\n",
            "Installing collected packages: farama-notifications, gymnasium\n",
            "Successfully installed farama-notifications-0.0.4 gymnasium-0.29.1\n"
          ]
        }
      ],
      "source": [
        "!pip install gymnasium[classic-control]"
      ]
    },
    {
      "cell_type": "markdown",
      "metadata": {
        "id": "D2vY1zCFGf2A"
      },
      "source": [
        "### 강화 학습 문제를 직접 풀어낼 정책 정의\n",
        "\n",
        "강화 학습에서는 어떤 함수를 학습하고자 하는 걸까요? 에이전트 안에는 상태 관측값(입력)을 받고 그것을 앞으로 취해야 할 최적의 행동(출력)에 매핑하는 함수가 있습니다. 예를 들어, 미로 속 에이전트의 현재 상태가 $(2, 3)$ 좌표라면, 에이전트 안의 함수는 이 입력값을 \"오른쪽으로 이동\"이라는 출력값에 매핑하는 것이 될 수 있습니다. 이 함수를 $\\pi$라고 한다면, 아래와 같이 수식으로 쓸 수 있습니다.\n",
        "$$\n",
        "\\pi((2, 3)) = \\text{\"오른쪽으로 이동\"}\n",
        "$$\n",
        "강화 학습 용어로 이 함수를 정책(policy)이라고 부릅니다."
      ]
    },
    {
      "cell_type": "code",
      "execution_count": null,
      "metadata": {
        "id": "uQVpDtbyGf2B"
      },
      "outputs": [],
      "source": [
        "def policy(state):\n",
        "    x_position = state[0]\n",
        "    x_velocity = state[1]\n",
        "\n",
        "    if x_velocity > 0:\n",
        "        action = 2\n",
        "    elif x_velocity < 0:\n",
        "        action = 0\n",
        "    else:\n",
        "        if x_position > -0.6:\n",
        "            action = 0\n",
        "        else:\n",
        "            action = 2\n",
        "\n",
        "    return action"
      ]
    },
    {
      "cell_type": "markdown",
      "metadata": {
        "id": "EMAngzWEGf2C"
      },
      "source": [
        "### 강화 학습이 돌아가는 환경의 코드 복습\n",
        "\n",
        "1. 인공지능 모델은 환경의 현재 상태(state)를 관찰할 수 있습니다. 미로 찾기 문제에서 환경의 현재 상태란 미로 속 현재 위치를 의미합니다. 예를 들어, 모델이 미로의 $(2, 3)$ 좌표에 있다면, 이 좌표는 현재 상태를 나타냅니다.\n",
        "\n",
        "2. 인공지능 모델은 관찰된 상태로부터 앞으로 취할 행동(action)을 결정합니다. 양갈래 길 중에서 어디로 갈지 결정하는 것 등이 그 예시가 될 수 있습니다.\n",
        "\n",
        "3. 환경은 상태를 변경(transition)시키고 그 행동에 대한 보상(reward)을 생성합니다. 인공지능 모델은 그 상태와 보상을 다 받습니다. 미로 찾기 문제에서 환경의 변화란 인공지능 모델의 (앞선 결정에 따른) 미로 속 위치 변화를 의미합니다. 예를 들어, '오른쪽으로 이동' 행동을 취하면, 에이전트의 위치 좌표가 $(2, 3)$에서 $(2, 4)$로 바뀔 수 있습니다. 보상은 출구를 찾았을 때 주어지는 경품이나 막다른 길에 도달했을 때 받는 페널티 등을 생각해 볼 수 있습니다.\n",
        "\n",
        "4.  이 새로운 정보(환경의 변화와 이에 따른 보상)를 사용하여 인공지능은 그런 행동이 좋아 그걸 반복해야 하는지, 또는 좋지 않아 회피해야 하는지 결정할 수 있습니다. 완료될 때까지 (done) 이 관측-행동-보상 사이클은 계속됩니다."
      ]
    },
    {
      "cell_type": "code",
      "execution_count": 5,
      "metadata": {
        "id": "3E1Gi4oZGf2C",
        "colab": {
          "base_uri": "https://localhost:8080/",
          "height": 239
        },
        "outputId": "3567aea1-fc3f-4f81-a4e3-20f29da5348b"
      },
      "outputs": [
        {
          "output_type": "stream",
          "name": "stdout",
          "text": [
            "Initial state: [-0.5439309  0.       ]\n"
          ]
        },
        {
          "output_type": "error",
          "ename": "NameError",
          "evalue": "name 'policy' is not defined",
          "traceback": [
            "\u001b[0;31m---------------------------------------------------------------------------\u001b[0m",
            "\u001b[0;31mNameError\u001b[0m                                 Traceback (most recent call last)",
            "\u001b[0;32m<ipython-input-5-411f9830f40e>\u001b[0m in \u001b[0;36m<cell line: 9>\u001b[0;34m()\u001b[0m\n\u001b[1;32m      8\u001b[0m \u001b[0mtotal_reward\u001b[0m \u001b[0;34m=\u001b[0m \u001b[0;36m0\u001b[0m\u001b[0;34m\u001b[0m\u001b[0;34m\u001b[0m\u001b[0m\n\u001b[1;32m      9\u001b[0m \u001b[0;32mwhile\u001b[0m \u001b[0;32mnot\u001b[0m \u001b[0mdone\u001b[0m\u001b[0;34m:\u001b[0m\u001b[0;34m\u001b[0m\u001b[0;34m\u001b[0m\u001b[0m\n\u001b[0;32m---> 10\u001b[0;31m     \u001b[0maction\u001b[0m \u001b[0;34m=\u001b[0m \u001b[0mpolicy\u001b[0m\u001b[0;34m(\u001b[0m\u001b[0mstate\u001b[0m\u001b[0;34m)\u001b[0m\u001b[0;34m\u001b[0m\u001b[0;34m\u001b[0m\u001b[0m\n\u001b[0m\u001b[1;32m     11\u001b[0m     \u001b[0mprint\u001b[0m\u001b[0;34m(\u001b[0m\u001b[0;34m\"Chose action:\"\u001b[0m\u001b[0;34m,\u001b[0m \u001b[0maction\u001b[0m\u001b[0;34m)\u001b[0m\u001b[0;34m\u001b[0m\u001b[0;34m\u001b[0m\u001b[0m\n\u001b[1;32m     12\u001b[0m     \u001b[0mstate\u001b[0m\u001b[0;34m,\u001b[0m \u001b[0mreward\u001b[0m\u001b[0;34m,\u001b[0m \u001b[0mdone\u001b[0m\u001b[0;34m,\u001b[0m \u001b[0m_\u001b[0m\u001b[0;34m,\u001b[0m \u001b[0m_\u001b[0m \u001b[0;34m=\u001b[0m \u001b[0menv\u001b[0m\u001b[0;34m.\u001b[0m\u001b[0mstep\u001b[0m\u001b[0;34m(\u001b[0m\u001b[0maction\u001b[0m\u001b[0;34m)\u001b[0m\u001b[0;34m\u001b[0m\u001b[0;34m\u001b[0m\u001b[0m\n",
            "\u001b[0;31mNameError\u001b[0m: name 'policy' is not defined"
          ]
        }
      ],
      "source": [
        "import gymnasium as gym\n",
        "\n",
        "env = gym.make('MountainCar-v0')\n",
        "state, _ = env.reset()\n",
        "print(\"Initial state:\", state)\n",
        "\n",
        "done = False\n",
        "total_reward = 0\n",
        "while not done:\n",
        "    action = policy(state)\n",
        "    print(\"Chose action:\", action)\n",
        "    state, reward, done, _, _ = env.step(action)\n",
        "    total_reward += reward\n",
        "    print(\"New state:\", state)\n",
        "    print(\"Reward:\", reward)\n",
        "\n",
        "print(\"Final state:\", state)\n",
        "print(\"Total reward:\", total_reward)\n",
        "env.close()\n"
      ]
    },
    {
      "cell_type": "markdown",
      "metadata": {
        "id": "74uFnDQTGf2D"
      },
      "source": [
        "### 환경 직접 만들어보기"
      ]
    },
    {
      "cell_type": "code",
      "execution_count": 1132,
      "metadata": {
        "id": "qNRU-Ma0Gf2D"
      },
      "outputs": [],
      "source": [
        "class MyEnv(gym.Env):\n",
        "    def __init__(self):\n",
        "        self.observation_space = gym.spaces.Discrete(7, start=-3)\n",
        "        self.action_space = gym.spaces.Discrete(2)\n",
        "        self.num_steps = 0\n",
        "\n",
        "    def reset(self):\n",
        "        state = 0\n",
        "        return state\n",
        "\n",
        "    def step(self, action):\n",
        "        self.num_steps += 1\n",
        "\n",
        "        if action == 0:\n",
        "            next_state = state - 1\n",
        "        else:\n",
        "            next_state = state + 1\n",
        "\n",
        "        if next_state > 3:\n",
        "            next_state = 3\n",
        "        elif next_state < -3:\n",
        "            next_state = -3\n",
        "\n",
        "        reward = {\n",
        "            -3: 1,\n",
        "            -2: 1,\n",
        "            -1: 1,\n",
        "            0: 0,\n",
        "            1: -1,\n",
        "            2: -1,\n",
        "            3: 10\n",
        "        }[next_state]\n",
        "\n",
        "        done = self.num_steps >= 3\n",
        "        return next_state, reward, done, {}\n"
      ]
    },
    {
      "cell_type": "code",
      "execution_count": 1133,
      "metadata": {
        "id": "XHV_E2zzGf2D",
        "colab": {
          "base_uri": "https://localhost:8080/",
          "height": 110
        },
        "outputId": "54876e4e-6580-4c0e-8cfb-0d141e2bb03a"
      },
      "outputs": [
        {
          "output_type": "error",
          "ename": "SyntaxError",
          "evalue": "invalid syntax (<ipython-input-1133-d39ec6884da4>, line 10)",
          "traceback": [
            "\u001b[0;36m  File \u001b[0;32m\"<ipython-input-1133-d39ec6884da4>\"\u001b[0;36m, line \u001b[0;32m10\u001b[0m\n\u001b[0;31m    state = ???\u001b[0m\n\u001b[0m            ^\u001b[0m\n\u001b[0;31mSyntaxError\u001b[0m\u001b[0;31m:\u001b[0m invalid syntax\n"
          ]
        }
      ],
      "source": [
        "class StudentMDP(gym.Env):\n",
        "    def __init__(self):\n",
        "        # 0: 수업, 1: 야자, 2: 집, 3: 잘침, 4: 못침\n",
        "        self.observation_space = gym.spaces.Discrete(5)\n",
        "\n",
        "        # 0: 공부, 1: 딴짓, 2: 땡땡이, 3: 쇼츠보기, 4: 벼락치기, 5: 수면\n",
        "        self.action_space = gym.spaces.Discrete(6)\n",
        "\n",
        "    def reset(self):\n",
        "        state = ???\n",
        "        return state\n",
        "\n",
        "    def step(self, action):\n",
        "        state = ???\n",
        "        reward = ???\n",
        "        done = ???\n",
        "        return state, reward, done, {}"
      ]
    },
    {
      "cell_type": "markdown",
      "metadata": {
        "id": "AI8OFlxmGf2E"
      },
      "source": [
        "# 슬롯머신 정복하기\n"
      ]
    },
    {
      "cell_type": "markdown",
      "metadata": {
        "id": "GckfImVaGf2E"
      },
      "source": [
        "### 슬롯머신 환경 구현하기\n",
        "\n",
        "각각의 밴딧 $i = 1, \\cdots, n$에 대해, 먼저 랜덤하게 실제 가치 $\\mu_{i} \\sim N(0, 1)$를 평균 0 분산 1인 표준정규분포에서 추출해 정해줍니다. 그리고 $i$번 째 밴딧을 고를 경우, 받을 수 있는 보상은 다음과 같이 정해줍니다:\n",
        "$$\n",
        "r_{t} = \\mu_{i} + \\varepsilon \\quad \\text{where} \\quad \\varepsilon \\sim N(0, 1)\n",
        "$$\n",
        "즉, $i$번 째 밴딧을 골랐을 때의 보상은, 그 밴딧의 실제 가치 $\\mu_{i}$에 랜덤한 표준 정규 노이즈 $\\varepsilon \\sim N(0, 1)$을 더한 것입니다."
      ]
    },
    {
      "cell_type": "code",
      "source": [
        "import numpy as np\n",
        "\n",
        "np.random.normal()"
      ],
      "metadata": {
        "colab": {
          "base_uri": "https://localhost:8080/"
        },
        "id": "TtnkntszHDVN",
        "outputId": "0505f209-d85b-4cea-de1d-a351a875dbfd"
      },
      "execution_count": 1,
      "outputs": [
        {
          "output_type": "execute_result",
          "data": {
            "text/plain": [
              "0.36274503352596943"
            ]
          },
          "metadata": {},
          "execution_count": 1
        }
      ]
    },
    {
      "cell_type": "code",
      "execution_count": 747,
      "metadata": {
        "id": "a0KseiTnGf2E"
      },
      "outputs": [],
      "source": [
        "import numpy as np\n",
        "import gymnasium as gym\n",
        "\n",
        "class BanditEnv(gym.Env):\n",
        "    def __init__(self, num_bandits):\n",
        "        self.num_bandits = num_bandits # 슬롯머신의 갯수\n",
        "        self.action_space = list(range(num_bandits)) # 0~n-1번째 슬롯머신 선택 가능\n",
        "        self.observation_space = [0]\n",
        "\n",
        "    def reset(self):\n",
        "        # self.mean = np.random.normal(size=self.num_bandits) * 10\n",
        "        # 보상을 정해둠\n",
        "        self.mean = [8, 9, 7.5, 7, 8.5, 7, 6, 7.5, 8, 8.5]\n",
        "        return 0\n",
        "\n",
        "    def step(self, action):\n",
        "        state = 0 # 슬롯머신의 상태가 없음 > 항상 같음\n",
        "        mean = self.mean[action]\n",
        "        reward = mean + np.random.normal()\n",
        "        done = False\n",
        "        return state, reward, done, {}\n"
      ]
    },
    {
      "cell_type": "code",
      "source": [],
      "metadata": {
        "id": "86WbivkKTWi0"
      },
      "execution_count": null,
      "outputs": []
    },
    {
      "cell_type": "markdown",
      "source": [
        "### 가중치로 구현"
      ],
      "metadata": {
        "id": "kk4y58dnoDKn"
      }
    },
    {
      "cell_type": "code",
      "source": [
        "import random\n",
        "\n",
        "safety = 10 # 기대값이 작은수는 선택X 큰수 선택O\n",
        "\n",
        "def weights(x):\n",
        "    res = x[:]\n",
        "    MIN = min(res)\n",
        "    for i in range(len(res)):\n",
        "        res[i] -= MIN # 모든 수를 양수로 만듦\n",
        "        res[i] = res[i]**safety + 1 # 선택 확률이 0이 되지 않게 +1\n",
        "    return res\n",
        "\n",
        "class MyPolicy2():\n",
        "    def __init__(self, num_bandits):\n",
        "        self.num_bandits = num_bandits # 술롯머신 개수 저장\n",
        "        self.s = [0]*num_bandits # 보상의 합\n",
        "        self.n = [0]*num_bandits # 슬롯머신 선택 횟수\n",
        "        self.q = [0]*num_bandits # s/n (기대값)\n",
        "        self.total = 0 # 총합\n",
        "\n",
        "    def __call__(self, state, reward, action = -1):\n",
        "        if action == -1:\n",
        "            action = random.choices(list(range(self.num_bandits)), weights(self.q))[0]\n",
        "        return action\n",
        "\n",
        "    def setValue(self, action, reward):\n",
        "        self.s[action] += reward # 보상 합에 보상 추가\n",
        "        self.n[action] += 1 # 선택 횟수 추가\n",
        "        self.total += reward # 총합 추가\n",
        "        self.q[action] = self.s[action]/self.n[action] # 기댓값 계산"
      ],
      "metadata": {
        "id": "ZVwzNXrROZnJ"
      },
      "execution_count": 1076,
      "outputs": []
    },
    {
      "cell_type": "code",
      "source": [
        "num_bandits = 10 # 슬롯머신 개수\n",
        "choices = 10000 # 선택 횟수\n",
        "\n",
        "required = 1 # 모든 슬롯머신을 돌리는 것을 몇번 실행?\n",
        "\n",
        "history = {i: [] for i in range(env.num_bandits)}\n",
        "\n",
        "env = BanditEnv(num_bandits)\n",
        "state = env.reset()\n",
        "total_reward = 0\n",
        "agent = MyPolicy2(num_bandits)\n",
        "reward = 0\n",
        "\n",
        "for _ in range(required):\n",
        "    for action in range(num_bandits):\n",
        "        agent(state, reward)\n",
        "        state, reward, done, _ = env.step(action)\n",
        "        agent.setValue(action, reward)\n",
        "\n",
        "        history[action].append(reward)\n",
        "\n",
        "for _ in range(choices-num_bandits*required):\n",
        "    action = agent(state, reward)\n",
        "    state, reward, done, _ = env.step(action)\n",
        "    agent.setValue(action, reward)\n",
        "\n",
        "    history[action].append(reward)\n",
        "    # print(\"Action:\", action, \"Reward:\", reward)\n",
        "\n",
        "print(\"Total reward:\", agent.total)\n",
        "print(\"보상 합:     \", agent.s)\n",
        "print(\"선택 횟수:   \", agent.n)\n",
        "print(\"기댓값:      \", agent.q)\n",
        "# print(positive(agent.q))\n",
        "\n",
        "import matplotlib.pyplot as plt\n",
        "for machine in range(env.num_bandits):\n",
        "    plt.scatter([machine]*len(history[machine]), history[machine])"
      ],
      "metadata": {
        "colab": {
          "base_uri": "https://localhost:8080/",
          "height": 504
        },
        "id": "gED0NeRUKYk_",
        "outputId": "55d81216-b46d-41b8-ff76-00b1ee76fe69"
      },
      "execution_count": 1098,
      "outputs": [
        {
          "output_type": "stream",
          "name": "stdout",
          "text": [
            "Total reward: 89416.17687639642\n",
            "보상 합:      [1022.4091518946237, 82263.61266078771, 7.129575657708464, 6.712668286872702, 6029.22307610256, 6.3303797031375, 6.423818548080709, 6.2905024936358584, 21.971364672977657, 46.073678249228934]\n",
            "선택 횟수:    [127, 9149, 1, 1, 710, 1, 1, 1, 3, 6]\n",
            "기댓값:       [8.050465762949793, 8.99154144286673, 7.129575657708464, 6.712668286872702, 8.491863487468395, 6.3303797031375, 6.423818548080709, 6.2905024936358584, 7.323788224325885, 7.678946374871489]\n"
          ]
        },
        {
          "output_type": "display_data",
          "data": {
            "text/plain": [
              "<Figure size 640x480 with 1 Axes>"
            ],
            "image/png": "[encoded data removed]"
          },
          "metadata": {}
        }
      ]
    },
    {
      "cell_type": "markdown",
      "source": [
        "### 그리드로 구현"
      ],
      "metadata": {
        "id": "sxJ8VcGSoPKl"
      }
    },
    {
      "cell_type": "code",
      "source": [
        "import numpy as np\n",
        "\n",
        "class MyPolicy():\n",
        "    def __init__(self, num_bandits):\n",
        "        self.num_bandits = num_bandits # 술롯머신 개수 저장\n",
        "\n",
        "        # 처음 가치 추정치\n",
        "        initial_q = 100\n",
        "\n",
        "        self.q = [initial_q]*num_bandits # 평균값\n",
        "        self.n = [0]*num_bandits # 선택 횟수\n",
        "        self.epsilon = 0.01 # 랜덤 선택할 확률\n",
        "\n",
        "    def __call__(self, state):\n",
        "        action = [np.argmax(self.q), np.random.randint(self.num_bandits)][np.random.random() < self.epsilon] # epsilon보다 작을 경우 랜덤 선택\n",
        "        # action = np.argmax(self.q)\n",
        "\n",
        "        # argmax >\n",
        "        # max(list(range(self.num_bandits)), key = lambda x: self.q[x])\n",
        "        return action"
      ],
      "metadata": {
        "id": "04OSWNnYoS3F"
      },
      "execution_count": 1111,
      "outputs": []
    },
    {
      "cell_type": "code",
      "source": [
        "num_bandits = 10 # 슬롯머신 개수\n",
        "choices = 10000 # 선택 횟수\n",
        "\n",
        "env = BanditEnv(num_bandits)\n",
        "state = env.reset()\n",
        "total_reward = 0\n",
        "agent = MyPolicy(num_bandits)\n",
        "reward = 0\n",
        "\n",
        "cnt = [0]*env.num_bandits\n",
        "\n",
        "\n",
        "for _ in range(choices):\n",
        "    action = agent(state)\n",
        "    state, reward, done, _ = env.step(action)\n",
        "    # print(\"Action:\", action, \"Reward:\", reward)\n",
        "\n",
        "    agent.n[action] += 1\n",
        "    agent.q[action] += (reward - agent.q[action]) / agent.n[action] # 평균값을 데이터 효율적으로 업데이트 및 저장\n",
        "    total_reward += reward\n",
        "\n",
        "print(\"Total reward:\", total_reward)\n",
        "# print(\"보상 합:     \", agent.s)\n",
        "print(\"선택 횟수:   \", agent.n)\n",
        "print(\"기댓값:      \", agent.q)\n",
        "# print(positive(agent.q))\n",
        "\n",
        "# import matplotlib.pyplot as plt\n",
        "# for machine in range(env.num_bandits):\n",
        "#     plt.scatter([machine]*(len(history[machine])-1), history[machine][1:])\n"
      ],
      "metadata": {
        "colab": {
          "base_uri": "https://localhost:8080/"
        },
        "id": "I3QBygn-oVFt",
        "outputId": "64d91577-9a5b-45d1-c1b5-cb5c149682f5"
      },
      "execution_count": 1131,
      "outputs": [
        {
          "output_type": "stream",
          "name": "stdout",
          "text": [
            "Total reward: 89628.1114146473\n",
            "선택 횟수:    [7, 9433, 8, 15, 473, 11, 7, 13, 12, 21]\n",
            "기댓값:       [7.685348257272362, 8.997317859188176, 7.770685951745193, 6.899087400193046, 8.566823017071934, 6.611320632685022, 6.031593697774013, 7.595951832584423, 7.824718508447007, 8.44123079351201]\n"
          ]
        }
      ]
    },
    {
      "cell_type": "markdown",
      "metadata": {
        "id": "Tl4tDuMxGf2F"
      },
      "source": [
        "### 슬롯머신 풀어보기\n",
        "\n",
        "직접 위 환경과 상호작용하면서, 각 슬롯머신의 보상을 추정해보세요. 그리고 Python을 이용해 위 문제에서 $\\epsilon=0.1$과 $\\epsilon=0.01$에 대해 각각 $\\epsilon$-greedy 방법을 적용해 보세요. (초기값 $Q_{1}(i)$는 모두 0으로 설정.) 또한 $Q_{1}(i) = 5$인 완전 탐욕적인 알고리즘 ($\\epsilon=0$) 또한 Python으로 구현하여 그 결과를 비교해 보세요."
      ]
    },
    {
      "cell_type": "code",
      "execution_count": 814,
      "metadata": {
        "id": "a5Pc0yv7Gf2F",
        "colab": {
          "base_uri": "https://localhost:8080/",
          "height": 110
        },
        "outputId": "2ba4f30c-d7d2-4c5c-d0fc-2f021f0a7388"
      },
      "outputs": [
        {
          "output_type": "error",
          "ename": "SyntaxError",
          "evalue": "invalid syntax (<ipython-input-814-5ed2b62abef5>, line 10)",
          "traceback": [
            "\u001b[0;36m  File \u001b[0;32m\"<ipython-input-814-5ed2b62abef5>\"\u001b[0;36m, line \u001b[0;32m10\u001b[0m\n\u001b[0;31m    action = ????\u001b[0m\n\u001b[0m             ^\u001b[0m\n\u001b[0;31mSyntaxError\u001b[0m\u001b[0;31m:\u001b[0m invalid syntax\n"
          ]
        }
      ],
      "source": [
        "import numpy as np\n",
        "\n",
        "class EpsilonGreedyPolicy:\n",
        "    def __init__(self, num_bandits, epsilon):\n",
        "        self.num_bandits = num_bandits\n",
        "        self.epsilon = epsilon\n",
        "        ????\n",
        "\n",
        "    def select_action(self):\n",
        "        action = ????\n",
        "        return action\n",
        "\n",
        "\n",
        "env = BanditEnv(10)\n",
        "policy = EpsilonGreedyPolicy(10, 0.1)\n",
        "\n",
        "state = env.reset()\n",
        "total_reward = 0\n",
        "for t in range(100):\n",
        "    action = policy.select_action()\n",
        "    state, reward, done, _ = env.step(action)\n",
        "    print(\"Action:\", action, \"Reward:\", reward)\n",
        "    total_reward += reward\n",
        "\n",
        "print(\"Total reward:\", total_reward)"
      ]
    }
  ],
  "metadata": {
    "kernelspec": {
      "display_name": "rllib",
      "language": "python",
      "name": "python3"
    },
    "language_info": {
      "codemirror_mode": {
        "name": "ipython",
        "version": 3
      },
      "file_extension": ".py",
      "mimetype": "text/x-python",
      "name": "python",
      "nbconvert_exporter": "python",
      "pygments_lexer": "ipython3",
      "version": "3.9.6"
    },
    "colab": {
      "provenance": [],
      "include_colab_link": true
    }
  },
  "nbformat": 4,
  "nbformat_minor": 0
}