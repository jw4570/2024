{
  "cells": [
    {
      "cell_type": "markdown",
      "metadata": {
        "id": "view-in-github",
        "colab_type": "text"
      },
      "source": [
        "<a href=\"https://colab.research.google.com/github/jw4570/2024/blob/main/0309/reinforcement_learning_tutorial.ipynb\" target=\"_parent\"><img src=\"https://colab.research.google.com/assets/colab-badge.svg\" alt=\"Open In Colab\"/></a>"
      ]
    },
    {
      "cell_type": "markdown",
      "metadata": {
        "id": "w2BsaXtWqpAp"
      },
      "source": [
        "# 강화 학습 맛보기\n",
        "\n",
        "강화 학습 수업에 오신 여러분을 진심으로 환영합니다!\n",
        "\n",
        "여러분이 앞으로 1년 동안 배우게 될 강화 학습은 인공지능 분야 중에서도 가장 독특하고 유용한 기술입니다.\n",
        "아마 다른 어떤 수업에서도 경험하지 못할 재미있고 유익한 경험이 될 거에요."
      ]
    },
    {
      "cell_type": "markdown",
      "metadata": {
        "id": "yPaT76WHqrUV"
      },
      "source": [
        "## 강화 학습 내용 훑어보기\n",
        "\n",
        "강화 학습은 시행착오를 거치며 경험을 통해 적절한 행동 방식을 배워나가는 과정입니다. \"당근과 채찍\" 전략을 생각하면 쉽습니다. 여러분이 좋은 행동을 하면 당근을, 나쁜 행동을 하면 채찍질을 주는 것이 바로 강화 학습입니다. 이 당근과 채찍을 통틀어 강화 학습에서는 \"보상\"이라고 부릅니다. 강화 학습의 가장 중요한 요소 중 하나가 바로 이 보상입니다.\n",
        "\n",
        "![](https://s3-ap-northeast-2.amazonaws.com/opentutorials-user-file/module/4916/12365.jpeg)\n",
        "\n",
        "강화 학습의 또 다른 중요한 요소는 바로 끊임없이 변화하는 환경의 상태입니다. 어러분이 취하는 행동은 여러분 주변의 환경을 변화시킵니다. 여러분은 이 끊임없이 변화하는 환경 속에서 계속 보상을 최대한 취할 수 있도록 노력해야합니다. 이 과정이 바로 강화 학습의 과정과 많이 닮아있습니다.\n",
        "\n"
      ]
    },
    {
      "cell_type": "markdown",
      "metadata": {
        "id": "94yhPKFYquQw"
      },
      "source": [
        "## 강화 학습 예제 경험하기\n",
        "\n",
        "강화 학습이 어떤 문제를 풀 수 있는지 한번 살펴볼까요?\n",
        "\n",
        "사실 강화 학습은 우리 주변에서 흔히 접할 수 있는 대부분의 문제를 다 풀 수 있는 아주 유용한 기술입니다. 로봇을 조종하는 것부터 시작해서, 자율 주행, 주식 투자, 심지어는 최근에 각광받는 ChatGPT 역시 강화 학습 기술이 사용되었습니다. 우리가 일상 생활에서 상벌의 개념을 생각할 수 있는 거의 모든 문제를 강화 학습으로 풀 수 있습니다."
      ]
    },
    {
      "cell_type": "code",
      "execution_count": 3,
      "metadata": {
        "id": "t3e7d7NMlQPE"
      },
      "outputs": [],
      "source": [
        "%%capture\n",
        "!pip install -U ray[rllib]\n",
        "!pip install gputil\n",
        "!pip install ipython==7.10.0\n",
        "!pip install moviepy\n",
        "!pip install gymnasium[classic-control]"
      ]
    },
    {
      "cell_type": "code",
      "execution_count": 4,
      "metadata": {
        "id": "zk7kE26_lTjF"
      },
      "outputs": [],
      "source": [
        "from __future__ import absolute_import\n",
        "from __future__ import division\n",
        "from __future__ import print_function\n",
        "\n",
        "import ray\n",
        "import numpy as np\n",
        "import gymnasium as gym\n",
        "\n",
        "import warnings\n",
        "warnings.filterwarnings('ignore')\n",
        "\n",
        "from IPython.display import HTML\n",
        "from base64 import b64encode\n",
        "from gymnasium.wrappers import RecordVideo\n",
        "\n",
        "\n",
        "def view_video(filename):\n",
        "    video = f'video/{filename}-episode-0.mp4'\n",
        "    mp4 = open(video,'rb').read()\n",
        "    data_url = \"data:video/mp4;base64,\" + b64encode(mp4).decode()\n",
        "\n",
        "    return HTML(\"\"\"\n",
        "    <video width=400 controls>\n",
        "          <source src=\"%s\" type=\"video/mp4\">\n",
        "    </video>\n",
        "    \"\"\" % data_url)"
      ]
    },
    {
      "cell_type": "markdown",
      "metadata": {
        "id": "5_OKJ8jCqxuQ"
      },
      "source": [
        "### 환경 정의하기\n",
        "\n",
        "오늘 수업 시간에는 강화 학습에서 가장 단순하고 유명한 예제 중 하나인 \"Mountain Car\" 문제를 직접 풀어볼 것입니다. 이 문제에서 여러분의 목표는 산 정상의 깃발에 도달하는 것입니다.\n",
        "여러분은 오른쪽 또는 왼쪽으로 가속하는 페달을 밟거나, 페달을 밟지 않는 선택을 할 수 있습니다.\n",
        "산 정상까지 올라가려면 페달을 적절히 밟아야 합니다. 하지만 산의 경사가 너무 가파르기 때문에, 아무리 밟아도 중력 때문에 올라가지 못할 수도 있습니다.\n",
        "\n",
        "![](https://www.gymlibrary.dev/_images/mountain_car.gif)\n",
        "\n",
        "먼저, 이 환경에서 여러분이 취할 수 있는 행동은 다음과 같이 표현할 수 있습니다:\n",
        "\n",
        "0: 왼쪽으로 가속하는 페달 밟기\n",
        "\n",
        "1: 페달 밟지 않기\n",
        "\n",
        "2: 오른쪽으로 가속하는 페달 밟기"
      ]
    },
    {
      "cell_type": "code",
      "execution_count": 5,
      "metadata": {
        "colab": {
          "base_uri": "https://localhost:8080/"
        },
        "id": "X25O_F-BlbXG",
        "outputId": "e01b204d-5788-43ef-f184-fef8562f02ba"
      },
      "outputs": [
        {
          "output_type": "stream",
          "name": "stdout",
          "text": [
            "Created env: <TimeLimit<OrderEnforcing<PassiveEnvChecker<MountainCarEnv<MountainCar-v0>>>>>\n",
            "Available actions: Discrete(3)\n"
          ]
        }
      ],
      "source": [
        "env = gym.make('MountainCar-v0')\n",
        "print('Created env:', env)\n",
        "print('Available actions:', env.action_space)"
      ]
    },
    {
      "cell_type": "markdown",
      "metadata": {
        "id": "yc3Kwh68MrJX"
      },
      "source": [
        "다음으로, 이 환경에서 받을 수 있는 상태에 대한 정보는 $s_{t} = (x_{t}, v_{t})$입니다.\n",
        "즉, 여러분이 받는 상태 정보 $s_{t}$는 $x$축 방향에서의 현재 위치 $x_{t}$와 속도 $v_{t}$입니다.\n",
        "\n",
        "$x$축 방향의 좌표는 $(-1.2, 0.6)$ 사이이고, 속도 $v$는 (-0.07, 0.07) 사이입니다."
      ]
    },
    {
      "cell_type": "code",
      "execution_count": 6,
      "metadata": {
        "colab": {
          "base_uri": "https://localhost:8080/"
        },
        "id": "6XWStLA-ldOd",
        "outputId": "f2db99c8-530b-407f-ca46-2e01db2f0c28"
      },
      "outputs": [
        {
          "output_type": "stream",
          "name": "stdout",
          "text": [
            "Observation space: Box([-1.2  -0.07], [0.6  0.07], (2,), float32)\n",
            "The starting state is: [-0.5291058  0.       ]\n"
          ]
        }
      ],
      "source": [
        "state, _ = env.reset()\n",
        "print('Observation space:', env.observation_space)\n",
        "print('The starting state is:', state) # 위치 속도"
      ]
    },
    {
      "cell_type": "markdown",
      "metadata": {
        "id": "8lQq5b-KMrJY"
      },
      "source": [
        "여러분이 어떤 행동을 선택하면, 다음과 같이 환경의 상태가 변화합니다.\n",
        "\n",
        "$v_{t+1} = v_{t} + (\\mathrm{action} - 1) * F - \\cos(3 * x_{t}) * mg$\n",
        "\n",
        "$x_{t+1} = x_{t} + v_{t+1}$\n",
        "\n",
        "여기서 $F$는 페달을 밟을 때 가속하는 힘 $F = 0.001$이고, 중력 $mg = 0.0025$입니다."
      ]
    },
    {
      "cell_type": "code",
      "execution_count": 7,
      "metadata": {
        "colab": {
          "base_uri": "https://localhost:8080/"
        },
        "id": "DKYtgu-blgGL",
        "outputId": "27d62c35-c70c-47b7-db03-afbb9e8dd571"
      },
      "outputs": [
        {
          "output_type": "stream",
          "name": "stdout",
          "text": [
            "State: [-0.53006446 -0.0009587 ]\n",
            "Reward: -1.0\n",
            "Done: False\n"
          ]
        }
      ],
      "source": [
        "action = 0 # 왼쪽으로 가속\n",
        "\n",
        "# 행동 선택 후 > 다음 상태, 보상, 환경이 끝났는지 정보\n",
        "state, reward, done, _, _ = env.step(action)\n",
        "print(f\"State: {state}\") # 다음 x축 좌표, 속도\n",
        "print(f\"Reward: {reward}\") # 다음 보상\n",
        "print(f\"Done: {done}\") # 환경이 끝났는지 여부 (도착)"
      ]
    },
    {
      "cell_type": "markdown",
      "metadata": {
        "id": "GCUIOuWYq0Nq"
      },
      "source": [
        "### 인공지능 정책 정의하기\n",
        "\n",
        "강화 학습에서 정책은 인공지능의 두뇌입니다. 인공지능이 변화하는 환경 속에서 어떻게 행동할지를 결정하는 지침으로 생각할 수 있습니다. 가장 단순한 형태의 정책으로는 여러분이 취할 수 있는 행동 중에서 아무거나 (샘플링하여) 고르는 것이 있겠습니다."
      ]
    },
    {
      "cell_type": "code",
      "execution_count": 8,
      "metadata": {
        "id": "1o18p51sq0lv"
      },
      "outputs": [],
      "source": [
        "class RandomPolicy():\n",
        "    def __init__(self, action_space):\n",
        "        # 행동 공간에 대한 정보 저장\n",
        "        self.action_space = action_space\n",
        "\n",
        "    def __call__(self, state):\n",
        "        # 상태(state)를 받았을 때 어떤 행동을 취할 지 결정\n",
        "        # (현재 > 랜덤 행동 선택됨)\n",
        "        return self.action_space.sample()"
      ]
    },
    {
      "cell_type": "code",
      "source": [
        "class MyPolicy():\n",
        "    def __init__(self, action_space):\n",
        "        # 행동 공간에 대한 정보 저장\n",
        "        self.action_space = action_space\n",
        "\n",
        "        # 시작 위치 상수\n",
        "        self.start_position = -0.51336956\n",
        "\n",
        "    def __call__(self, state):\n",
        "        # 상태(state)를 받았을 때 어떤 행동을 취할 지 결정\n",
        "        # state = [x축 위치, x축 속도]\n",
        "        # (현재 > 페달을 밟고 있는데 안움직이면 방향 전환)\n",
        "        x, v = state\n",
        "        if x < self.start_position:\n",
        "            next_action = 0\n",
        "            if v > 0:\n",
        "                next_action = 2\n",
        "        elif x > self.start_position:\n",
        "            next_action = 2\n",
        "            if v < 0:\n",
        "                next_action = 0\n",
        "        else:\n",
        "            next_action = 2\n",
        "\n",
        "\n",
        "        return next_action"
      ],
      "metadata": {
        "id": "wsmSLjfJnxTp"
      },
      "execution_count": null,
      "outputs": []
    },
    {
      "cell_type": "markdown",
      "metadata": {
        "id": "WBvVYPQrq3h_"
      },
      "source": [
        "### 환경과 상호작용하기\n",
        "\n",
        "정책이 있다면, 여러분은 주어진 상황에서 어떤 행동을 취해야 할지 결정할 수 있습니다. 그럼 이제 본격적으로 환경 속에 들어가서 직접 부딪혀볼까요?\n",
        "\n",
        "여러분이 어떤 행동을 취하면, 환경은 여러분에게 보상을 줍니다. 이 보상은 여러분이 좋은 행동을 했는지, 나쁜 행동을 했는지 알려주는 값입니다. 그리고 여러분이 취한 행동에 따라 환경은 변화하고, 이 변화한 환경을 여러분은 다시 관찰할 수 있습니다. 그리고 여러분은 또다시 (여러분이 관찰한 결과를 토대로) 어떤 행동을 취할지 결정합니다. 강화 학습은 이 과정을 반복하며 진행됩니다."
      ]
    },
    {
      "cell_type": "code",
      "execution_count": 10,
      "metadata": {
        "colab": {
          "base_uri": "https://localhost:8080/",
          "height": 489
        },
        "id": "mwtH_tezxFYm",
        "outputId": "05a19707-38b0-409b-a7d5-92ffe6e876ce"
      },
      "outputs": [
        {
          "output_type": "stream",
          "name": "stdout",
          "text": [
            "Moviepy - Building video /content/video/random-agent-episode-0.mp4.\n",
            "Moviepy - Writing video /content/video/random-agent-episode-0.mp4\n",
            "\n"
          ]
        },
        {
          "output_type": "stream",
          "name": "stderr",
          "text": [
            "                                                  "
          ]
        },
        {
          "output_type": "stream",
          "name": "stdout",
          "text": [
            "Moviepy - Done !\n",
            "Moviepy - video ready /content/video/random-agent-episode-0.mp4\n"
          ]
        },
        {
          "output_type": "stream",
          "name": "stderr",
          "text": [
            "\r"
          ]
        },
        {
          "output_type": "stream",
          "name": "stdout",
          "text": [
            "Moviepy - Building video /content/video/random-agent-episode-0.mp4.\n",
            "Moviepy - Writing video /content/video/random-agent-episode-0.mp4\n",
            "\n"
          ]
        },
        {
          "output_type": "stream",
          "name": "stderr",
          "text": []
        },
        {
          "output_type": "stream",
          "name": "stdout",
          "text": [
            "Moviepy - Done !\n",
            "Moviepy - video ready /content/video/random-agent-episode-0.mp4\n",
            "122\n"
          ]
        },
        {
          "output_type": "execute_result",
          "data": {
            "text/plain": [
              "<IPython.core.display.HTML object>"
            ],
            "text/html": [
              "\n",
              "    <video width=400 controls>\n",
              "          <source src=\"data:video/mp4;base64,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\" type=\"video/mp4\">\n",
              "    </video>\n",
              "    "
            ]
          },
          "metadata": {},
          "execution_count": 10
        }
      ],
      "source": [
        "# 환경 생성\n",
        "env = gym.make(\"MountainCar-v0\", render_mode=\"rgb_array\")\n",
        "# 비디오 저장\n",
        "env = RecordVideo(env, 'video', name_prefix='random-agent')\n",
        "\n",
        "# 정책 불러오기\n",
        "agent = MyPolicy(env.action_space)\n",
        "state, _ = env.reset() # 환경 초기화\n",
        "env.start_video_recorder() # 비디오 촬영 시작\n",
        "\n",
        "for t in range(1000):\n",
        "    action = agent(state) # 상태 정보로 행동 결정\n",
        "    state, reward, done, _, _ = env.step(action) # 행동에 의해 상태 변화\n",
        "    env.render() # 비디오 렌더링\n",
        "    if done:\n",
        "        print(t)\n",
        "        break\n",
        "\n",
        "env.close()\n",
        "view_video('random-agent')"
      ]
    },
    {
      "cell_type": "markdown",
      "metadata": {
        "id": "xoSZRL4DMrJa"
      },
      "source": [
        "### BONUS: 강화 학습 에이전트 학습하기"
      ]
    },
    {
      "cell_type": "code",
      "execution_count": 11,
      "metadata": {
        "colab": {
          "base_uri": "https://localhost:8080/",
          "height": 575
        },
        "id": "MxmeXv3xlrgD",
        "outputId": "f7e45aa6-efe7-4839-bc8a-2df59e924234"
      },
      "outputs": [
        {
          "output_type": "stream",
          "name": "stderr",
          "text": [
            "2024-03-09 07:14:58,709\tINFO worker.py:1724 -- Started a local Ray instance.\n"
          ]
        },
        {
          "output_type": "error",
          "ename": "RuntimeError",
          "evalue": "Found 0 GPUs on your machine (GPU devices found: [])! If your\n    machine does not have any GPUs, you should set the config keys `num_gpus` and\n    `num_gpus_per_worker` to 0 (they may be set to 1 by default for your\n    particular RL algorithm).\nTo change the config for the `rllib train|rollout` command, use\n  `--config={'[key]': '[value]'}` on the command line.\nTo change the config for `tune.Tuner().fit()` in a script: Modify the python dict\n  passed to `tune.Tuner(param_space=[...]).fit()`.\nTo change the config for an RLlib Algorithm instance: Modify the python dict\n  passed to the Algorithm's constructor, e.g. `PPO(config=[...])`.\n",
          "traceback": [
            "\u001b[0;31m---------------------------------------------------------------------------\u001b[0m",
            "\u001b[0;31mRuntimeError\u001b[0m                              Traceback (most recent call last)",
            "\u001b[0;32m<ipython-input-11-2f5758810a85>\u001b[0m in \u001b[0;36m<cell line: 5>\u001b[0;34m()\u001b[0m\n\u001b[1;32m      7\u001b[0m     \u001b[0;34m.\u001b[0m\u001b[0mresources\u001b[0m\u001b[0;34m(\u001b[0m\u001b[0mnum_gpus\u001b[0m\u001b[0;34m=\u001b[0m\u001b[0;36m1\u001b[0m\u001b[0;34m)\u001b[0m\u001b[0;34m\u001b[0m\u001b[0;34m\u001b[0m\u001b[0m\n\u001b[1;32m      8\u001b[0m     \u001b[0;34m.\u001b[0m\u001b[0menvironment\u001b[0m\u001b[0;34m(\u001b[0m\u001b[0menv\u001b[0m\u001b[0;34m=\u001b[0m\u001b[0;34m\"MountainCar-v0\"\u001b[0m\u001b[0;34m)\u001b[0m\u001b[0;34m\u001b[0m\u001b[0;34m\u001b[0m\u001b[0m\n\u001b[0;32m----> 9\u001b[0;31m     \u001b[0;34m.\u001b[0m\u001b[0mbuild\u001b[0m\u001b[0;34m(\u001b[0m\u001b[0;34m)\u001b[0m\u001b[0;34m\u001b[0m\u001b[0;34m\u001b[0m\u001b[0m\n\u001b[0m\u001b[1;32m     10\u001b[0m )\n\u001b[1;32m     11\u001b[0m \u001b[0;34m\u001b[0m\u001b[0m\n",
            "\u001b[0;32m/usr/local/lib/python3.10/dist-packages/ray/rllib/algorithms/algorithm_config.py\u001b[0m in \u001b[0;36mbuild\u001b[0;34m(self, env, logger_creator, use_copy)\u001b[0m\n\u001b[1;32m   1135\u001b[0m             \u001b[0malgo_class\u001b[0m \u001b[0;34m=\u001b[0m \u001b[0mget_trainable_cls\u001b[0m\u001b[0;34m(\u001b[0m\u001b[0mself\u001b[0m\u001b[0;34m.\u001b[0m\u001b[0malgo_class\u001b[0m\u001b[0;34m)\u001b[0m\u001b[0;34m\u001b[0m\u001b[0;34m\u001b[0m\u001b[0m\n\u001b[1;32m   1136\u001b[0m \u001b[0;34m\u001b[0m\u001b[0m\n\u001b[0;32m-> 1137\u001b[0;31m         return algo_class(\n\u001b[0m\u001b[1;32m   1138\u001b[0m             \u001b[0mconfig\u001b[0m\u001b[0;34m=\u001b[0m\u001b[0mself\u001b[0m \u001b[0;32mif\u001b[0m \u001b[0;32mnot\u001b[0m \u001b[0muse_copy\u001b[0m \u001b[0;32melse\u001b[0m \u001b[0mcopy\u001b[0m\u001b[0;34m.\u001b[0m\u001b[0mdeepcopy\u001b[0m\u001b[0;34m(\u001b[0m\u001b[0mself\u001b[0m\u001b[0;34m)\u001b[0m\u001b[0;34m,\u001b[0m\u001b[0;34m\u001b[0m\u001b[0;34m\u001b[0m\u001b[0m\n\u001b[1;32m   1139\u001b[0m             \u001b[0mlogger_creator\u001b[0m\u001b[0;34m=\u001b[0m\u001b[0mself\u001b[0m\u001b[0;34m.\u001b[0m\u001b[0mlogger_creator\u001b[0m\u001b[0;34m,\u001b[0m\u001b[0;34m\u001b[0m\u001b[0;34m\u001b[0m\u001b[0m\n",
            "\u001b[0;32m/usr/local/lib/python3.10/dist-packages/ray/rllib/algorithms/algorithm.py\u001b[0m in \u001b[0;36m__init__\u001b[0;34m(self, config, env, logger_creator, **kwargs)\u001b[0m\n\u001b[1;32m    514\u001b[0m         }\n\u001b[1;32m    515\u001b[0m \u001b[0;34m\u001b[0m\u001b[0m\n\u001b[0;32m--> 516\u001b[0;31m         super().__init__(\n\u001b[0m\u001b[1;32m    517\u001b[0m             \u001b[0mconfig\u001b[0m\u001b[0;34m=\u001b[0m\u001b[0mconfig\u001b[0m\u001b[0;34m,\u001b[0m\u001b[0;34m\u001b[0m\u001b[0;34m\u001b[0m\u001b[0m\n\u001b[1;32m    518\u001b[0m             \u001b[0mlogger_creator\u001b[0m\u001b[0;34m=\u001b[0m\u001b[0mlogger_creator\u001b[0m\u001b[0;34m,\u001b[0m\u001b[0;34m\u001b[0m\u001b[0;34m\u001b[0m\u001b[0m\n",
            "\u001b[0;32m/usr/local/lib/python3.10/dist-packages/ray/tune/trainable/trainable.py\u001b[0m in \u001b[0;36m__init__\u001b[0;34m(self, config, logger_creator, storage)\u001b[0m\n\u001b[1;32m    159\u001b[0m         \u001b[0mself\u001b[0m\u001b[0;34m.\u001b[0m\u001b[0m_open_logfiles\u001b[0m\u001b[0;34m(\u001b[0m\u001b[0mstdout_file\u001b[0m\u001b[0;34m,\u001b[0m \u001b[0mstderr_file\u001b[0m\u001b[0;34m)\u001b[0m\u001b[0;34m\u001b[0m\u001b[0;34m\u001b[0m\u001b[0m\n\u001b[1;32m    160\u001b[0m \u001b[0;34m\u001b[0m\u001b[0m\n\u001b[0;32m--> 161\u001b[0;31m         \u001b[0mself\u001b[0m\u001b[0;34m.\u001b[0m\u001b[0msetup\u001b[0m\u001b[0;34m(\u001b[0m\u001b[0mcopy\u001b[0m\u001b[0;34m.\u001b[0m\u001b[0mdeepcopy\u001b[0m\u001b[0;34m(\u001b[0m\u001b[0mself\u001b[0m\u001b[0;34m.\u001b[0m\u001b[0mconfig\u001b[0m\u001b[0;34m)\u001b[0m\u001b[0;34m)\u001b[0m\u001b[0;34m\u001b[0m\u001b[0;34m\u001b[0m\u001b[0m\n\u001b[0m\u001b[1;32m    162\u001b[0m         \u001b[0msetup_time\u001b[0m \u001b[0;34m=\u001b[0m \u001b[0mtime\u001b[0m\u001b[0;34m.\u001b[0m\u001b[0mtime\u001b[0m\u001b[0;34m(\u001b[0m\u001b[0;34m)\u001b[0m \u001b[0;34m-\u001b[0m \u001b[0mself\u001b[0m\u001b[0;34m.\u001b[0m\u001b[0m_start_time\u001b[0m\u001b[0;34m\u001b[0m\u001b[0;34m\u001b[0m\u001b[0m\n\u001b[1;32m    163\u001b[0m         \u001b[0;32mif\u001b[0m \u001b[0msetup_time\u001b[0m \u001b[0;34m>\u001b[0m \u001b[0mSETUP_TIME_THRESHOLD\u001b[0m\u001b[0;34m:\u001b[0m\u001b[0;34m\u001b[0m\u001b[0;34m\u001b[0m\u001b[0m\n",
            "\u001b[0;32m/usr/local/lib/python3.10/dist-packages/ray/rllib/algorithms/algorithm.py\u001b[0m in \u001b[0;36msetup\u001b[0;34m(self, config)\u001b[0m\n\u001b[1;32m    636\u001b[0m         \u001b[0;32mif\u001b[0m \u001b[0m_init\u001b[0m \u001b[0;32mis\u001b[0m \u001b[0;32mFalse\u001b[0m\u001b[0;34m:\u001b[0m\u001b[0;34m\u001b[0m\u001b[0;34m\u001b[0m\u001b[0m\n\u001b[1;32m    637\u001b[0m             \u001b[0;31m# Create a set of env runner actors via a WorkerSet.\u001b[0m\u001b[0;34m\u001b[0m\u001b[0;34m\u001b[0m\u001b[0m\n\u001b[0;32m--> 638\u001b[0;31m             self.workers = WorkerSet(\n\u001b[0m\u001b[1;32m    639\u001b[0m                 \u001b[0menv_creator\u001b[0m\u001b[0;34m=\u001b[0m\u001b[0mself\u001b[0m\u001b[0;34m.\u001b[0m\u001b[0menv_creator\u001b[0m\u001b[0;34m,\u001b[0m\u001b[0;34m\u001b[0m\u001b[0;34m\u001b[0m\u001b[0m\n\u001b[1;32m    640\u001b[0m                 \u001b[0mvalidate_env\u001b[0m\u001b[0;34m=\u001b[0m\u001b[0mself\u001b[0m\u001b[0;34m.\u001b[0m\u001b[0mvalidate_env\u001b[0m\u001b[0;34m,\u001b[0m\u001b[0;34m\u001b[0m\u001b[0;34m\u001b[0m\u001b[0m\n",
            "\u001b[0;32m/usr/local/lib/python3.10/dist-packages/ray/rllib/evaluation/worker_set.py\u001b[0m in \u001b[0;36m__init__\u001b[0;34m(self, env_creator, validate_env, default_policy_class, config, num_workers, local_worker, logdir, _setup)\u001b[0m\n\u001b[1;32m    157\u001b[0m         \u001b[0;32mif\u001b[0m \u001b[0m_setup\u001b[0m\u001b[0;34m:\u001b[0m\u001b[0;34m\u001b[0m\u001b[0;34m\u001b[0m\u001b[0m\n\u001b[1;32m    158\u001b[0m             \u001b[0;32mtry\u001b[0m\u001b[0;34m:\u001b[0m\u001b[0;34m\u001b[0m\u001b[0;34m\u001b[0m\u001b[0m\n\u001b[0;32m--> 159\u001b[0;31m                 self._setup(\n\u001b[0m\u001b[1;32m    160\u001b[0m                     \u001b[0mvalidate_env\u001b[0m\u001b[0;34m=\u001b[0m\u001b[0mvalidate_env\u001b[0m\u001b[0;34m,\u001b[0m\u001b[0;34m\u001b[0m\u001b[0;34m\u001b[0m\u001b[0m\n\u001b[1;32m    161\u001b[0m                     \u001b[0mconfig\u001b[0m\u001b[0;34m=\u001b[0m\u001b[0mconfig\u001b[0m\u001b[0;34m,\u001b[0m\u001b[0;34m\u001b[0m\u001b[0;34m\u001b[0m\u001b[0m\n",
            "\u001b[0;32m/usr/local/lib/python3.10/dist-packages/ray/rllib/evaluation/worker_set.py\u001b[0m in \u001b[0;36m_setup\u001b[0;34m(self, validate_env, config, num_workers, local_worker)\u001b[0m\n\u001b[1;32m    247\u001b[0m         \u001b[0;31m# Create a local worker, if needed.\u001b[0m\u001b[0;34m\u001b[0m\u001b[0;34m\u001b[0m\u001b[0m\n\u001b[1;32m    248\u001b[0m         \u001b[0;32mif\u001b[0m \u001b[0mlocal_worker\u001b[0m\u001b[0;34m:\u001b[0m\u001b[0;34m\u001b[0m\u001b[0;34m\u001b[0m\u001b[0m\n\u001b[0;32m--> 249\u001b[0;31m             self._local_worker = self._make_worker(\n\u001b[0m\u001b[1;32m    250\u001b[0m                 \u001b[0mcls\u001b[0m\u001b[0;34m=\u001b[0m\u001b[0mself\u001b[0m\u001b[0;34m.\u001b[0m\u001b[0menv_runner_cls\u001b[0m\u001b[0;34m,\u001b[0m\u001b[0;34m\u001b[0m\u001b[0;34m\u001b[0m\u001b[0m\n\u001b[1;32m    251\u001b[0m                 \u001b[0menv_creator\u001b[0m\u001b[0;34m=\u001b[0m\u001b[0mself\u001b[0m\u001b[0;34m.\u001b[0m\u001b[0m_env_creator\u001b[0m\u001b[0;34m,\u001b[0m\u001b[0;34m\u001b[0m\u001b[0;34m\u001b[0m\u001b[0m\n",
            "\u001b[0;32m/usr/local/lib/python3.10/dist-packages/ray/rllib/evaluation/worker_set.py\u001b[0m in \u001b[0;36m_make_worker\u001b[0;34m(self, cls, env_creator, validate_env, worker_index, num_workers, recreated_worker, config, spaces)\u001b[0m\n\u001b[1;32m    948\u001b[0m         ] = None,\n\u001b[1;32m    949\u001b[0m     ) -> Union[EnvRunner, ActorHandle]:\n\u001b[0;32m--> 950\u001b[0;31m         worker = cls(\n\u001b[0m\u001b[1;32m    951\u001b[0m             \u001b[0menv_creator\u001b[0m\u001b[0;34m=\u001b[0m\u001b[0menv_creator\u001b[0m\u001b[0;34m,\u001b[0m\u001b[0;34m\u001b[0m\u001b[0;34m\u001b[0m\u001b[0m\n\u001b[1;32m    952\u001b[0m             \u001b[0mvalidate_env\u001b[0m\u001b[0;34m=\u001b[0m\u001b[0mvalidate_env\u001b[0m\u001b[0;34m,\u001b[0m\u001b[0;34m\u001b[0m\u001b[0;34m\u001b[0m\u001b[0m\n",
            "\u001b[0;32m/usr/local/lib/python3.10/dist-packages/ray/rllib/evaluation/rollout_worker.py\u001b[0m in \u001b[0;36m__init__\u001b[0;34m(self, env_creator, validate_env, config, worker_index, num_workers, recreated_worker, log_dir, spaces, default_policy_class, dataset_shards, tf_session_creator)\u001b[0m\n\u001b[1;32m    510\u001b[0m \u001b[0;34m\u001b[0m\u001b[0m\n\u001b[1;32m    511\u001b[0m                 \u001b[0;32mif\u001b[0m \u001b[0mlen\u001b[0m\u001b[0;34m(\u001b[0m\u001b[0mdevices\u001b[0m\u001b[0;34m)\u001b[0m \u001b[0;34m<\u001b[0m \u001b[0mnum_gpus\u001b[0m\u001b[0;34m:\u001b[0m\u001b[0;34m\u001b[0m\u001b[0;34m\u001b[0m\u001b[0m\n\u001b[0;32m--> 512\u001b[0;31m                     raise RuntimeError(\n\u001b[0m\u001b[1;32m    513\u001b[0m                         \u001b[0mERR_MSG_NO_GPUS\u001b[0m\u001b[0;34m.\u001b[0m\u001b[0mformat\u001b[0m\u001b[0;34m(\u001b[0m\u001b[0mlen\u001b[0m\u001b[0;34m(\u001b[0m\u001b[0mdevices\u001b[0m\u001b[0;34m)\u001b[0m\u001b[0;34m,\u001b[0m \u001b[0mdevices\u001b[0m\u001b[0;34m)\u001b[0m\u001b[0;34m\u001b[0m\u001b[0;34m\u001b[0m\u001b[0m\n\u001b[1;32m    514\u001b[0m                         \u001b[0;34m+\u001b[0m \u001b[0mHOWTO_CHANGE_CONFIG\u001b[0m\u001b[0;34m\u001b[0m\u001b[0;34m\u001b[0m\u001b[0m\n",
            "\u001b[0;31mRuntimeError\u001b[0m: Found 0 GPUs on your machine (GPU devices found: [])! If your\n    machine does not have any GPUs, you should set the config keys `num_gpus` and\n    `num_gpus_per_worker` to 0 (they may be set to 1 by default for your\n    particular RL algorithm).\nTo change the config for the `rllib train|rollout` command, use\n  `--config={'[key]': '[value]'}` on the command line.\nTo change the config for `tune.Tuner().fit()` in a script: Modify the python dict\n  passed to `tune.Tuner(param_space=[...]).fit()`.\nTo change the config for an RLlib Algorithm instance: Modify the python dict\n  passed to the Algorithm's constructor, e.g. `PPO(config=[...])`.\n"
          ]
        }
      ],
      "source": [
        "%%capture\n",
        "from ray.rllib.algorithms.ppo import PPOConfig\n",
        "from ray.tune.logger import pretty_print\n",
        "\n",
        "algo = (\n",
        "    PPOConfig()\n",
        "    .rollouts(num_rollout_workers=1)\n",
        "    .resources(num_gpus=1)\n",
        "    .environment(env=\"MountainCar-v0\")\n",
        "    .build()\n",
        ")\n",
        "\n",
        "for i in range(2):\n",
        "    algo.train()"
      ]
    },
    {
      "cell_type": "code",
      "execution_count": 12,
      "metadata": {
        "colab": {
          "base_uri": "https://localhost:8080/",
          "height": 369
        },
        "id": "Ip0wHBJLMrJa",
        "outputId": "53a5615c-045d-414e-9750-93a88533d67c"
      },
      "outputs": [
        {
          "output_type": "stream",
          "name": "stderr",
          "text": [
            "/usr/local/lib/python3.10/dist-packages/ipykernel/ipkernel.py:283: DeprecationWarning: `should_run_async` will not call `transform_cell` automatically in the future. Please pass the result to `transformed_cell` argument and any exception that happen during thetransform in `preprocessing_exc_tuple` in IPython 7.17 and above.\n",
            "  and should_run_async(code)\n"
          ]
        },
        {
          "output_type": "stream",
          "name": "stdout",
          "text": [
            "Moviepy - Building video /content/video/ppo-agent-episode-0.mp4.\n",
            "Moviepy - Writing video /content/video/ppo-agent-episode-0.mp4\n",
            "\n"
          ]
        },
        {
          "output_type": "stream",
          "name": "stderr",
          "text": [
            "                                                  "
          ]
        },
        {
          "output_type": "stream",
          "name": "stdout",
          "text": [
            "Moviepy - Done !\n",
            "Moviepy - video ready /content/video/ppo-agent-episode-0.mp4\n"
          ]
        },
        {
          "output_type": "stream",
          "name": "stderr",
          "text": [
            "\r"
          ]
        },
        {
          "output_type": "error",
          "ename": "NameError",
          "evalue": "name 'algo' is not defined",
          "traceback": [
            "\u001b[0;31m---------------------------------------------------------------------------\u001b[0m",
            "\u001b[0;31mNameError\u001b[0m                                 Traceback (most recent call last)",
            "\u001b[0;32m<ipython-input-12-6b6652b4aa22>\u001b[0m in \u001b[0;36m<cell line: 7>\u001b[0;34m()\u001b[0m\n\u001b[1;32m      6\u001b[0m \u001b[0;34m\u001b[0m\u001b[0m\n\u001b[1;32m      7\u001b[0m \u001b[0;32mfor\u001b[0m \u001b[0mt\u001b[0m \u001b[0;32min\u001b[0m \u001b[0mrange\u001b[0m\u001b[0;34m(\u001b[0m\u001b[0;36m100\u001b[0m\u001b[0;34m)\u001b[0m\u001b[0;34m:\u001b[0m\u001b[0;34m\u001b[0m\u001b[0;34m\u001b[0m\u001b[0m\n\u001b[0;32m----> 8\u001b[0;31m     \u001b[0maction\u001b[0m \u001b[0;34m=\u001b[0m \u001b[0malgo\u001b[0m\u001b[0;34m.\u001b[0m\u001b[0mcompute_single_action\u001b[0m\u001b[0;34m(\u001b[0m\u001b[0mstate\u001b[0m\u001b[0;34m)\u001b[0m\u001b[0;34m\u001b[0m\u001b[0;34m\u001b[0m\u001b[0m\n\u001b[0m\u001b[1;32m      9\u001b[0m     \u001b[0mstate\u001b[0m\u001b[0;34m,\u001b[0m \u001b[0mreward\u001b[0m\u001b[0;34m,\u001b[0m \u001b[0mdone\u001b[0m\u001b[0;34m,\u001b[0m \u001b[0m_\u001b[0m\u001b[0;34m,\u001b[0m \u001b[0m_\u001b[0m \u001b[0;34m=\u001b[0m \u001b[0menv\u001b[0m\u001b[0;34m.\u001b[0m\u001b[0mstep\u001b[0m\u001b[0;34m(\u001b[0m\u001b[0maction\u001b[0m\u001b[0;34m)\u001b[0m\u001b[0;34m\u001b[0m\u001b[0;34m\u001b[0m\u001b[0m\n\u001b[1;32m     10\u001b[0m     \u001b[0menv\u001b[0m\u001b[0;34m.\u001b[0m\u001b[0mrender\u001b[0m\u001b[0;34m(\u001b[0m\u001b[0;34m)\u001b[0m\u001b[0;34m\u001b[0m\u001b[0;34m\u001b[0m\u001b[0m\n",
            "\u001b[0;31mNameError\u001b[0m: name 'algo' is not defined"
          ]
        }
      ],
      "source": [
        "env = gym.make(\"MountainCar-v0\", render_mode=\"rgb_array\")\n",
        "env = RecordVideo(env, 'video', name_prefix='ppo-agent')\n",
        "\n",
        "state, _ = env.reset()\n",
        "env.start_video_recorder()\n",
        "\n",
        "for t in range(100):\n",
        "    action = algo.compute_single_action(state)\n",
        "    state, reward, done, _, _ = env.step(action)\n",
        "    env.render()\n",
        "\n",
        "env.close()\n",
        "view_video('ppo-agent')"
      ]
    },
    {
      "cell_type": "markdown",
      "metadata": {
        "id": "wYr9gqg7MrJb"
      },
      "source": [
        "# 강화 학습 환경 직접 만져보기"
      ]
    },
    {
      "cell_type": "markdown",
      "metadata": {
        "id": "swsNa6MdMrJb"
      },
      "source": [
        "### 블랙잭"
      ]
    },
    {
      "cell_type": "code",
      "execution_count": 155,
      "metadata": {
        "colab": {
          "base_uri": "https://localhost:8080/"
        },
        "id": "Zz0HbUpTMrJb",
        "outputId": "5d4865e9-960e-4c1b-c4f3-0582424055e2"
      },
      "outputs": [
        {
          "output_type": "stream",
          "name": "stdout",
          "text": [
            "0.425\n"
          ]
        }
      ],
      "source": [
        "\n",
        "total = 0\n",
        "for i in range(1000):\n",
        "    # Create the Blackjack environment\n",
        "    env = gym.make('Blackjack-v1')\n",
        "\n",
        "    # Reset the environment\n",
        "    state, _ = env.reset()\n",
        "\n",
        "\n",
        "    done = False\n",
        "    while not done:\n",
        "        # Choose a random action\n",
        "        #env.action_space.sample()\n",
        "        a, b, c = state\n",
        "        action = 1\n",
        "        if a-b > 5:\n",
        "            action = 0\n",
        "\n",
        "        # Take a step in the environment\n",
        "        state, reward, done, info, _ = env.step(action)\n",
        "\n",
        "        # Print the current state, reward, and whether the episode is done\n",
        "        # print('State:', state)\n",
        "        # print('Reward:', reward)\n",
        "        # print('Done:', done)\n",
        "\n",
        "    # Close the environment\n",
        "    env.close()\n",
        "    total += max(0, reward)\n",
        "print(total/1000)\n"
      ]
    },
    {
      "cell_type": "markdown",
      "metadata": {
        "id": "38l8q1cnMrJb"
      },
      "source": [
        "### Tic-Tac-Toe"
      ]
    },
    {
      "cell_type": "code",
      "execution_count": 21,
      "metadata": {
        "id": "DVzVjie1MrJb"
      },
      "outputs": [],
      "source": [
        "import numpy as np\n",
        "import gymnasium as gym\n",
        "from gymnasium import spaces\n",
        "\n",
        "class TicTacToeEnv(gym.Env):\n",
        "    def __init__(self):\n",
        "        self.board = np.zeros((3, 3), dtype=int)\n",
        "        self.current_player = 1\n",
        "        self.action_space = spaces.Discrete(9)\n",
        "        self.observation_space = spaces.Box(low=0, high=1, shape=(3, 3), dtype=int)\n",
        "\n",
        "    def reset(self):\n",
        "        self.board = np.zeros((3, 3), dtype=int)\n",
        "        self.current_player = 1\n",
        "        return self.board\n",
        "\n",
        "    def step(self, action):\n",
        "        row = action // 3\n",
        "        col = action % 3\n",
        "\n",
        "        if self.board[row, col] != 0:\n",
        "            return self.board, -1, False, False, {}\n",
        "\n",
        "        self.board[row, col] = self.current_player\n",
        "\n",
        "        if self._check_winner(self.current_player):\n",
        "            return self.board, 1, True, False, {}\n",
        "\n",
        "        if np.count_nonzero(self.board) == 9:\n",
        "            return self.board, 0, True, False, {}\n",
        "\n",
        "        self.current_player = -self.current_player\n",
        "        return self.board, 0, False, False, {}\n",
        "\n",
        "    def render(self):\n",
        "        print(self.board)\n",
        "\n",
        "    def _check_winner(self, player):\n",
        "        for i in range(3):\n",
        "            if np.all(self.board[i, :] == player) or np.all(self.board[:, i] == player):\n",
        "                return True\n",
        "        if np.all(np.diag(self.board) == player) or np.all(np.diag(np.fliplr(self.board)) == player):\n",
        "            return True\n",
        "        return False"
      ]
    },
    {
      "cell_type": "code",
      "execution_count": 28,
      "metadata": {
        "colab": {
          "base_uri": "https://localhost:8080/"
        },
        "id": "pRdltih1MrJc",
        "outputId": "fdda85ed-df55-4c07-9ecd-d30f340e1677"
      },
      "outputs": [
        {
          "output_type": "stream",
          "name": "stdout",
          "text": [
            "[[0 0 0]\n",
            " [0 0 0]\n",
            " [0 0 0]]\n",
            "[[0 1 0]\n",
            " [0 0 0]\n",
            " [0 0 0]]\n",
            "[[ 0  1 -1]\n",
            " [ 0  0  0]\n",
            " [ 0  0  0]]\n",
            "[[ 0  1 -1]\n",
            " [ 1  0  0]\n",
            " [ 0  0  0]]\n",
            "[[ 0  1 -1]\n",
            " [ 1 -1  0]\n",
            " [ 0  0  0]]\n",
            "[[ 0  1 -1]\n",
            " [ 1 -1  1]\n",
            " [ 0  0  0]]\n",
            "[[ 0  1 -1]\n",
            " [ 1 -1  1]\n",
            " [-1  0  0]]\n"
          ]
        },
        {
          "output_type": "stream",
          "name": "stderr",
          "text": [
            "/usr/local/lib/python3.10/dist-packages/ipykernel/ipkernel.py:283: DeprecationWarning: `should_run_async` will not call `transform_cell` automatically in the future. Please pass the result to `transformed_cell` argument and any exception that happen during thetransform in `preprocessing_exc_tuple` in IPython 7.17 and above.\n",
            "  and should_run_async(code)\n"
          ]
        }
      ],
      "source": [
        "env = TicTacToeEnv()\n",
        "state = env.reset()\n",
        "env.render()\n",
        "\n",
        "done = False\n",
        "action = 0\n",
        "while not done:\n",
        "    action += 1\n",
        "    state, reward, done, info, _ = env.step(action)\n",
        "    env.render()"
      ]
    }
  ],
  "metadata": {
    "accelerator": "GPU",
    "colab": {
      "gpuType": "T4",
      "provenance": [],
      "collapsed_sections": [
        "xoSZRL4DMrJa"
      ],
      "include_colab_link": true
    },
    "kernelspec": {
      "display_name": "Python 3",
      "name": "python3"
    },
    "language_info": {
      "codemirror_mode": {
        "name": "ipython",
        "version": 3
      },
      "file_extension": ".py",
      "mimetype": "text/x-python",
      "name": "python",
      "nbconvert_exporter": "python",
      "pygments_lexer": "ipython3",
      "version": "3.9.6"
    }
  },
  "nbformat": 4,
  "nbformat_minor": 0
}